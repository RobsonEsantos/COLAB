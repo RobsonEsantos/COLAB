{
  "nbformat": 4,
  "nbformat_minor": 0,
  "metadata": {
    "colab": {
      "provenance": [],
      "authorship_tag": "ABX9TyM7ZiqlzDo3Q0pjq03A7QrN",
      "include_colab_link": true
    },
    "kernelspec": {
      "name": "python3",
      "display_name": "Python 3"
    },
    "language_info": {
      "name": "python"
    }
  },
  "cells": [
    {
      "cell_type": "markdown",
      "metadata": {
        "id": "view-in-github",
        "colab_type": "text"
      },
      "source": [
        "<a href=\"https://colab.research.google.com/github/RobsonEsantos/Departamento_de_vejabem/blob/main/DEPARTAMENTO_DE_VEJA_BEM.ipynb\" target=\"_parent\"><img src=\"https://colab.research.google.com/assets/colab-badge.svg\" alt=\"Open In Colab\"/></a>"
      ]
    },
    {
      "cell_type": "markdown",
      "source": [
        "# Chat: Departamento de VEJA BEM\n",
        "\n",
        "**- Apresentação:**\n",
        "\n",
        "Aqui na minha empresa, eu e meu sócio costumamos brincar que todas as grandes ideias morrem no departamento de \"Veja Bem\" (que geralmente é o papel do financeiro). Pois geralmente uma grande ideia é acompanhada de uma resposta como \"veja bem, essa ideia é interessante, mas o custo é inviável no momento, etc...\".\n",
        "\n",
        "**- Objetivo:**\n",
        "\n",
        "O objetivo deste chat é simular essa experiência, desafiando as ideias propostas pelo usuário, questionando a viabilidade e apontando pontos falhos. O usuário pode selecionar três níveis de desafio: BAIXO, MÉDIO e ALTO. O chat continuará respondendo até que o usuário encerre com o comando \"vou pensar\".\n",
        "\n",
        "**- Abordagem:**\n",
        "\n",
        "A abordagem deste chat visa evitar a necessidade de respostas precisas, que seria um dos pontos falhos de uma IA. Pelo contrário, vamos aproveitar esse grau de imprevisibilidade para gerar dúvida na cabeça do usuário e fazê-lo pensar. Vamos utilizar o modelo com o objetivo de desafiar o usuário a desenvolver sua capacidade de raciocínio. As IAs deveriam estimular o usuário a ser mais inteligente, em vez de dependente delas.\n",
        "\n",
        "**## Exemplo de prompt inicial:**\n",
        "\n",
        "\"Quero abrir uma lanchonete que só vende pastel e mais nada, vai se chamar CASA DO PASTEL.\""
      ],
      "metadata": {
        "id": "eesj2v3Q2h1E"
      }
    },
    {
      "cell_type": "markdown",
      "source": [
        "## Script do chat"
      ],
      "metadata": {
        "id": "TaqZ99Fk3MTF"
      }
    },
    {
      "cell_type": "code",
      "execution_count": 1,
      "metadata": {
        "id": "DNqRw1c0fG80"
      },
      "outputs": [],
      "source": [
        "!pip install -q -U google-generativeai"
      ]
    },
    {
      "cell_type": "code",
      "source": [
        "import google.generativeai as genai\n",
        "from google.colab import userdata\n",
        "\n",
        "## Definindo as credenciais\n",
        "api_key = userdata.get('SECRET_KEY')\n",
        "genai.configure(api_key=api_key)\n",
        "\n",
        "## Configurando os paramêtros\n",
        "generation_config = {\n",
        "    'candidate_count': 1,\n",
        "    'temperature': 1\n",
        "}\n",
        "\n",
        "safety_settings = {\n",
        "    'HARASSMENT': 'BLOCK_NONE',\n",
        "    'HATE': 'BLOCK_NONE',\n",
        "    'SEXUAL': 'BLOCK_NONE',\n",
        "    'DANGEROUS': 'BLOCK_NONE'\n",
        "}\n",
        "\n",
        "## Iniciando o modelo\n",
        "model = genai.GenerativeModel(model_name='gemini-1.0-pro',\n",
        "                              generation_config=generation_config,\n",
        "                              safety_settings=safety_settings)\n",
        "\n",
        "## Criando um histórico vazio\n",
        "chat = model.start_chat(history=[])\n",
        "\n",
        "## Seleção do nível de discordância\n",
        "while True:\n",
        "    nivel_desafio = input(\"Escolha o nível de desafio (BAIXO, MÉDIO, ALTO): \").upper()\n",
        "    if nivel_desafio in [\"BAIXO\", \"MÉDIO\", \"ALTO\"]:\n",
        "        break\n",
        "    else:\n",
        "        print(\"Opção inválida. Tente novamente.\")\n",
        "\n",
        "# Definindo o texto de discordância com base na escolha\n",
        "if nivel_desafio == \"BAIXO\":\n",
        "    desafio = \"discordando um pouco da ideia proposta\"\n",
        "elif nivel_desafio == \"MÉDIO\":\n",
        "    desafio = \"discordando de forma mediana da ideia proposta\"\n",
        "else:\n",
        "    desafio = \"discordando muito da ideia proposta\"\n",
        "\n",
        "## Iniciando o chat\n",
        "print('\\n','*Iniciando o chat! (para encerrar digite \"vou pensar\")','\\n')\n",
        "prompt = input('Me diga a sua ideia brilhante... ')\n",
        "\n",
        "## Mantendo o chat ativo enquanto o usuário desejar\n",
        "while prompt != 'vou pensar':\n",
        "    # Adiciona instrução para resposta de 2 linhas ao prompt\n",
        "    prompt_with_instruction = f\"{prompt}\\n\\n(Responda em no máximo 1 linha, {desafio} e comece a frase com 'Veja bem,')\"\n",
        "    response = chat.send_message(prompt_with_instruction)\n",
        "    print('Resposta: ', response.text, '\\n')\n",
        "    prompt = input('Pense sobre isso... ')"
      ],
      "metadata": {
        "colab": {
          "base_uri": "https://localhost:8080/",
          "height": 326
        },
        "id": "cLjA2SuotivZ",
        "outputId": "cdf7d8e9-d07d-43fe-b1ef-8fde24c1ba8d"
      },
      "execution_count": 2,
      "outputs": [
        {
          "name": "stdout",
          "output_type": "stream",
          "text": [
            "Escolha o nível de desafio (BAIXO, MÉDIO, ALTO): ALTO\n",
            "\n",
            " *Iniciando o chat! (para encerrar digite \"vou pensar\") \n",
            "\n",
            "Me diga a sua ideia brilhante... vou abrir uma lanchonete que só vende pastel, vai chamar CASA DO PASTEL\n",
            "Resposta:  Veja bem, a ideia de abrir uma lanchonete apenas com pastel carece de variedade e pode limitar o público-alvo. \n",
            "\n",
            "Pense sobre isso... mas eu posso dominar um mercado muito grande\n",
            "Resposta:  Veja bem, dominar um mercado amplo com um único produto pode ser desafiador, pois o público tem preferências e demandas diversas. \n",
            "\n",
            "Pense sobre isso... mas assim eu posso ter uma margem de lucro muito grande\n",
            "Resposta:  Veja bem, margens de lucro elevadas com um único produto podem atrair concorrência e diminuir a sustentabilidade a longo prazo. \n",
            "\n",
            "Pense sobre isso... eu vou ser referência na minha região\n",
            "Resposta:  Veja bem, construir uma referência regional com um produto limitado pode ser desafiador, pois os clientes buscam variedade e inovação. \n",
            "\n",
            "Pense sobre isso... vou pensar\n"
          ]
        }
      ]
    }
  ]
}